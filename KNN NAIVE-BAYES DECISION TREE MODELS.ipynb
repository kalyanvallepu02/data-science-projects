{
 "cells": [
  {
   "cell_type": "code",
   "execution_count": 2,
   "id": "13b1762b",
   "metadata": {},
   "outputs": [],
   "source": [
    "import numpy as np\n",
    "import pandas as pd"
   ]
  },
  {
   "cell_type": "code",
   "execution_count": 3,
   "id": "e68f1176",
   "metadata": {},
   "outputs": [
    {
     "data": {
      "text/html": [
       "<div>\n",
       "<style scoped>\n",
       "    .dataframe tbody tr th:only-of-type {\n",
       "        vertical-align: middle;\n",
       "    }\n",
       "\n",
       "    .dataframe tbody tr th {\n",
       "        vertical-align: top;\n",
       "    }\n",
       "\n",
       "    .dataframe thead th {\n",
       "        text-align: right;\n",
       "    }\n",
       "</style>\n",
       "<table border=\"1\" class=\"dataframe\">\n",
       "  <thead>\n",
       "    <tr style=\"text-align: right;\">\n",
       "      <th></th>\n",
       "      <th>SlNo</th>\n",
       "      <th>Gender</th>\n",
       "      <th>Percent_SSC</th>\n",
       "      <th>Board_SSC</th>\n",
       "      <th>Percent_HSC</th>\n",
       "      <th>Board_HSC</th>\n",
       "      <th>Stream_HSC</th>\n",
       "      <th>Percent_Degree</th>\n",
       "      <th>Course_Degree</th>\n",
       "      <th>Experience_Yrs</th>\n",
       "      <th>Entrance_Test</th>\n",
       "      <th>Percentile_ET</th>\n",
       "      <th>Percent_MBA</th>\n",
       "      <th>Specialization_MBA</th>\n",
       "      <th>Marks_Communication</th>\n",
       "      <th>Marks_Projectwork</th>\n",
       "      <th>Marks_BOCA</th>\n",
       "      <th>Placement</th>\n",
       "      <th>Salary</th>\n",
       "    </tr>\n",
       "  </thead>\n",
       "  <tbody>\n",
       "    <tr>\n",
       "      <th>0</th>\n",
       "      <td>1</td>\n",
       "      <td>M</td>\n",
       "      <td>62.00</td>\n",
       "      <td>Others</td>\n",
       "      <td>88.00</td>\n",
       "      <td>Others</td>\n",
       "      <td>Commerce</td>\n",
       "      <td>52.00</td>\n",
       "      <td>Science</td>\n",
       "      <td>0</td>\n",
       "      <td>MAT</td>\n",
       "      <td>55.0</td>\n",
       "      <td>58.80</td>\n",
       "      <td>Marketing &amp; HR</td>\n",
       "      <td>50</td>\n",
       "      <td>65</td>\n",
       "      <td>74</td>\n",
       "      <td>Placed</td>\n",
       "      <td>270000</td>\n",
       "    </tr>\n",
       "    <tr>\n",
       "      <th>1</th>\n",
       "      <td>2</td>\n",
       "      <td>M</td>\n",
       "      <td>76.33</td>\n",
       "      <td>ICSE</td>\n",
       "      <td>75.33</td>\n",
       "      <td>Others</td>\n",
       "      <td>Science</td>\n",
       "      <td>75.48</td>\n",
       "      <td>Computer Applications</td>\n",
       "      <td>1</td>\n",
       "      <td>MAT</td>\n",
       "      <td>86.5</td>\n",
       "      <td>66.28</td>\n",
       "      <td>Marketing &amp; Finance</td>\n",
       "      <td>69</td>\n",
       "      <td>70</td>\n",
       "      <td>75</td>\n",
       "      <td>Placed</td>\n",
       "      <td>200000</td>\n",
       "    </tr>\n",
       "  </tbody>\n",
       "</table>\n",
       "</div>"
      ],
      "text/plain": [
       "   SlNo Gender  Percent_SSC Board_SSC  Percent_HSC Board_HSC Stream_HSC  \\\n",
       "0     1      M        62.00    Others        88.00    Others   Commerce   \n",
       "1     2      M        76.33      ICSE        75.33    Others    Science   \n",
       "\n",
       "   Percent_Degree          Course_Degree  Experience_Yrs Entrance_Test  \\\n",
       "0           52.00                Science               0           MAT   \n",
       "1           75.48  Computer Applications               1           MAT   \n",
       "\n",
       "   Percentile_ET  Percent_MBA   Specialization_MBA  Marks_Communication  \\\n",
       "0           55.0        58.80       Marketing & HR                   50   \n",
       "1           86.5        66.28  Marketing & Finance                   69   \n",
       "\n",
       "   Marks_Projectwork  Marks_BOCA Placement  Salary  \n",
       "0                 65          74    Placed  270000  \n",
       "1                 70          75    Placed  200000  "
      ]
     },
     "execution_count": 3,
     "metadata": {},
     "output_type": "execute_result"
    }
   ],
   "source": [
    "df = pd.read_csv('./Admission (1).csv')\n",
    "df.head(2)"
   ]
  },
  {
   "cell_type": "code",
   "execution_count": 4,
   "id": "4e809532",
   "metadata": {},
   "outputs": [
    {
     "data": {
      "text/plain": [
       "(391, 19)"
      ]
     },
     "execution_count": 4,
     "metadata": {},
     "output_type": "execute_result"
    }
   ],
   "source": [
    "df.shape"
   ]
  },
  {
   "cell_type": "code",
   "execution_count": 5,
   "id": "7de7a0c9",
   "metadata": {},
   "outputs": [
    {
     "name": "stdout",
     "output_type": "stream",
     "text": [
      "<class 'pandas.core.frame.DataFrame'>\n",
      "RangeIndex: 391 entries, 0 to 390\n",
      "Data columns (total 19 columns):\n",
      " #   Column               Non-Null Count  Dtype  \n",
      "---  ------               --------------  -----  \n",
      " 0   SlNo                 391 non-null    int64  \n",
      " 1   Gender               391 non-null    object \n",
      " 2   Percent_SSC          391 non-null    float64\n",
      " 3   Board_SSC            391 non-null    object \n",
      " 4   Percent_HSC          391 non-null    float64\n",
      " 5   Board_HSC            391 non-null    object \n",
      " 6   Stream_HSC           391 non-null    object \n",
      " 7   Percent_Degree       391 non-null    float64\n",
      " 8   Course_Degree        391 non-null    object \n",
      " 9   Experience_Yrs       391 non-null    int64  \n",
      " 10  Entrance_Test        324 non-null    object \n",
      " 11  Percentile_ET        391 non-null    float64\n",
      " 12  Percent_MBA          391 non-null    float64\n",
      " 13  Specialization_MBA   391 non-null    object \n",
      " 14  Marks_Communication  391 non-null    int64  \n",
      " 15  Marks_Projectwork    391 non-null    int64  \n",
      " 16  Marks_BOCA           391 non-null    int64  \n",
      " 17  Placement            391 non-null    object \n",
      " 18  Salary               391 non-null    int64  \n",
      "dtypes: float64(5), int64(6), object(8)\n",
      "memory usage: 58.2+ KB\n"
     ]
    }
   ],
   "source": [
    "df.info()"
   ]
  },
  {
   "cell_type": "code",
   "execution_count": 6,
   "id": "7cfb9c97",
   "metadata": {},
   "outputs": [
    {
     "data": {
      "text/plain": [
       "SlNo                    0\n",
       "Gender                  0\n",
       "Percent_SSC             0\n",
       "Board_SSC               0\n",
       "Percent_HSC             0\n",
       "Board_HSC               0\n",
       "Stream_HSC              0\n",
       "Percent_Degree          0\n",
       "Course_Degree           0\n",
       "Experience_Yrs          0\n",
       "Entrance_Test          67\n",
       "Percentile_ET           0\n",
       "Percent_MBA             0\n",
       "Specialization_MBA      0\n",
       "Marks_Communication     0\n",
       "Marks_Projectwork       0\n",
       "Marks_BOCA              0\n",
       "Placement               0\n",
       "Salary                  0\n",
       "dtype: int64"
      ]
     },
     "execution_count": 6,
     "metadata": {},
     "output_type": "execute_result"
    }
   ],
   "source": [
    "df.isnull().sum()"
   ]
  },
  {
   "cell_type": "code",
   "execution_count": 7,
   "id": "6562b5b3",
   "metadata": {},
   "outputs": [],
   "source": [
    "df['Entrance_Test'].fillna('Management_Quota',inplace=True)"
   ]
  },
  {
   "cell_type": "code",
   "execution_count": 8,
   "id": "d67a3174",
   "metadata": {},
   "outputs": [],
   "source": [
    "df = df.drop(['SlNo','Salary'],axis=1)"
   ]
  },
  {
   "cell_type": "code",
   "execution_count": 10,
   "id": "00dddf87",
   "metadata": {},
   "outputs": [],
   "source": [
    "df_cat = df.select_dtypes(exclude=np.number)\n",
    "df_num = df.select_dtypes(include=np.number)"
   ]
  },
  {
   "cell_type": "code",
   "execution_count": 11,
   "id": "e9d0a9ff",
   "metadata": {},
   "outputs": [],
   "source": [
    "cat_encode = pd.get_dummies(df_cat.drop('Placement',axis=1),drop_first=True)"
   ]
  },
  {
   "cell_type": "code",
   "execution_count": 12,
   "id": "4a925b67",
   "metadata": {},
   "outputs": [
    {
     "data": {
      "text/plain": [
       "(391, 32)"
      ]
     },
     "execution_count": 12,
     "metadata": {},
     "output_type": "execute_result"
    }
   ],
   "source": [
    "final_df = pd.concat([df_num,cat_encode],axis=1)\n",
    "final_df.shape"
   ]
  },
  {
   "cell_type": "code",
   "execution_count": 15,
   "id": "9a2c33d5",
   "metadata": {},
   "outputs": [
    {
     "data": {
      "text/html": [
       "<div>\n",
       "<style scoped>\n",
       "    .dataframe tbody tr th:only-of-type {\n",
       "        vertical-align: middle;\n",
       "    }\n",
       "\n",
       "    .dataframe tbody tr th {\n",
       "        vertical-align: top;\n",
       "    }\n",
       "\n",
       "    .dataframe thead th {\n",
       "        text-align: right;\n",
       "    }\n",
       "</style>\n",
       "<table border=\"1\" class=\"dataframe\">\n",
       "  <thead>\n",
       "    <tr style=\"text-align: right;\">\n",
       "      <th></th>\n",
       "      <th>Percent_SSC</th>\n",
       "      <th>Percent_HSC</th>\n",
       "      <th>Percent_Degree</th>\n",
       "      <th>Experience_Yrs</th>\n",
       "      <th>Percentile_ET</th>\n",
       "      <th>Percent_MBA</th>\n",
       "      <th>Marks_Communication</th>\n",
       "      <th>Marks_Projectwork</th>\n",
       "      <th>Marks_BOCA</th>\n",
       "      <th>Gender_M</th>\n",
       "      <th>...</th>\n",
       "      <th>Entrance_Test_G-SAT</th>\n",
       "      <th>Entrance_Test_GCET</th>\n",
       "      <th>Entrance_Test_K-MAT</th>\n",
       "      <th>Entrance_Test_MAT</th>\n",
       "      <th>Entrance_Test_Management_Quota</th>\n",
       "      <th>Entrance_Test_PGCET</th>\n",
       "      <th>Entrance_Test_XAT</th>\n",
       "      <th>Specialization_MBA_Marketing &amp; HR</th>\n",
       "      <th>Specialization_MBA_Marketing &amp; IB</th>\n",
       "      <th>Placement</th>\n",
       "    </tr>\n",
       "  </thead>\n",
       "  <tbody>\n",
       "    <tr>\n",
       "      <th>0</th>\n",
       "      <td>62.00</td>\n",
       "      <td>88.00</td>\n",
       "      <td>52.00</td>\n",
       "      <td>0</td>\n",
       "      <td>55.0</td>\n",
       "      <td>58.80</td>\n",
       "      <td>50</td>\n",
       "      <td>65</td>\n",
       "      <td>74</td>\n",
       "      <td>1</td>\n",
       "      <td>...</td>\n",
       "      <td>0</td>\n",
       "      <td>0</td>\n",
       "      <td>0</td>\n",
       "      <td>1</td>\n",
       "      <td>0</td>\n",
       "      <td>0</td>\n",
       "      <td>0</td>\n",
       "      <td>1</td>\n",
       "      <td>0</td>\n",
       "      <td>Placed</td>\n",
       "    </tr>\n",
       "    <tr>\n",
       "      <th>1</th>\n",
       "      <td>76.33</td>\n",
       "      <td>75.33</td>\n",
       "      <td>75.48</td>\n",
       "      <td>1</td>\n",
       "      <td>86.5</td>\n",
       "      <td>66.28</td>\n",
       "      <td>69</td>\n",
       "      <td>70</td>\n",
       "      <td>75</td>\n",
       "      <td>1</td>\n",
       "      <td>...</td>\n",
       "      <td>0</td>\n",
       "      <td>0</td>\n",
       "      <td>0</td>\n",
       "      <td>1</td>\n",
       "      <td>0</td>\n",
       "      <td>0</td>\n",
       "      <td>0</td>\n",
       "      <td>0</td>\n",
       "      <td>0</td>\n",
       "      <td>Placed</td>\n",
       "    </tr>\n",
       "    <tr>\n",
       "      <th>2</th>\n",
       "      <td>72.00</td>\n",
       "      <td>78.00</td>\n",
       "      <td>66.63</td>\n",
       "      <td>0</td>\n",
       "      <td>0.0</td>\n",
       "      <td>52.91</td>\n",
       "      <td>50</td>\n",
       "      <td>61</td>\n",
       "      <td>59</td>\n",
       "      <td>1</td>\n",
       "      <td>...</td>\n",
       "      <td>0</td>\n",
       "      <td>0</td>\n",
       "      <td>0</td>\n",
       "      <td>0</td>\n",
       "      <td>1</td>\n",
       "      <td>0</td>\n",
       "      <td>0</td>\n",
       "      <td>0</td>\n",
       "      <td>0</td>\n",
       "      <td>Placed</td>\n",
       "    </tr>\n",
       "    <tr>\n",
       "      <th>3</th>\n",
       "      <td>60.00</td>\n",
       "      <td>63.00</td>\n",
       "      <td>58.00</td>\n",
       "      <td>0</td>\n",
       "      <td>75.0</td>\n",
       "      <td>57.80</td>\n",
       "      <td>54</td>\n",
       "      <td>66</td>\n",
       "      <td>62</td>\n",
       "      <td>1</td>\n",
       "      <td>...</td>\n",
       "      <td>0</td>\n",
       "      <td>0</td>\n",
       "      <td>0</td>\n",
       "      <td>1</td>\n",
       "      <td>0</td>\n",
       "      <td>0</td>\n",
       "      <td>0</td>\n",
       "      <td>0</td>\n",
       "      <td>0</td>\n",
       "      <td>Placed</td>\n",
       "    </tr>\n",
       "    <tr>\n",
       "      <th>4</th>\n",
       "      <td>61.00</td>\n",
       "      <td>55.00</td>\n",
       "      <td>54.00</td>\n",
       "      <td>1</td>\n",
       "      <td>66.0</td>\n",
       "      <td>59.43</td>\n",
       "      <td>52</td>\n",
       "      <td>65</td>\n",
       "      <td>67</td>\n",
       "      <td>1</td>\n",
       "      <td>...</td>\n",
       "      <td>0</td>\n",
       "      <td>0</td>\n",
       "      <td>0</td>\n",
       "      <td>1</td>\n",
       "      <td>0</td>\n",
       "      <td>0</td>\n",
       "      <td>0</td>\n",
       "      <td>1</td>\n",
       "      <td>0</td>\n",
       "      <td>Placed</td>\n",
       "    </tr>\n",
       "  </tbody>\n",
       "</table>\n",
       "<p>5 rows × 33 columns</p>\n",
       "</div>"
      ],
      "text/plain": [
       "   Percent_SSC  Percent_HSC  Percent_Degree  Experience_Yrs  Percentile_ET  \\\n",
       "0        62.00        88.00           52.00               0           55.0   \n",
       "1        76.33        75.33           75.48               1           86.5   \n",
       "2        72.00        78.00           66.63               0            0.0   \n",
       "3        60.00        63.00           58.00               0           75.0   \n",
       "4        61.00        55.00           54.00               1           66.0   \n",
       "\n",
       "   Percent_MBA  Marks_Communication  Marks_Projectwork  Marks_BOCA  Gender_M  \\\n",
       "0        58.80                   50                 65          74         1   \n",
       "1        66.28                   69                 70          75         1   \n",
       "2        52.91                   50                 61          59         1   \n",
       "3        57.80                   54                 66          62         1   \n",
       "4        59.43                   52                 65          67         1   \n",
       "\n",
       "   ...  Entrance_Test_G-SAT  Entrance_Test_GCET  Entrance_Test_K-MAT  \\\n",
       "0  ...                    0                   0                    0   \n",
       "1  ...                    0                   0                    0   \n",
       "2  ...                    0                   0                    0   \n",
       "3  ...                    0                   0                    0   \n",
       "4  ...                    0                   0                    0   \n",
       "\n",
       "   Entrance_Test_MAT  Entrance_Test_Management_Quota  Entrance_Test_PGCET  \\\n",
       "0                  1                               0                    0   \n",
       "1                  1                               0                    0   \n",
       "2                  0                               1                    0   \n",
       "3                  1                               0                    0   \n",
       "4                  1                               0                    0   \n",
       "\n",
       "   Entrance_Test_XAT  Specialization_MBA_Marketing & HR  \\\n",
       "0                  0                                  1   \n",
       "1                  0                                  0   \n",
       "2                  0                                  0   \n",
       "3                  0                                  0   \n",
       "4                  0                                  1   \n",
       "\n",
       "   Specialization_MBA_Marketing & IB  Placement  \n",
       "0                                  0     Placed  \n",
       "1                                  0     Placed  \n",
       "2                                  0     Placed  \n",
       "3                                  0     Placed  \n",
       "4                                  0     Placed  \n",
       "\n",
       "[5 rows x 33 columns]"
      ]
     },
     "execution_count": 15,
     "metadata": {},
     "output_type": "execute_result"
    }
   ],
   "source": [
    "final_df['Placement']=df['Placement']\n",
    "final_df.head()"
   ]
  },
  {
   "cell_type": "code",
   "execution_count": 13,
   "id": "e4629836",
   "metadata": {},
   "outputs": [],
   "source": [
    "from sklearn.model_selection import train_test_split,GridSearchCV,cross_val_score"
   ]
  },
  {
   "cell_type": "code",
   "execution_count": 35,
   "id": "59c2716d",
   "metadata": {},
   "outputs": [],
   "source": [
    "x = final_df.drop('Placement',axis=1)\n",
    "y = final_df['Placement']\n",
    "xtrain,xtest,ytrain,ytest = train_test_split(x,y,test_size=0.3,random_state=100)"
   ]
  },
  {
   "cell_type": "code",
   "execution_count": 17,
   "id": "8fc7efe9",
   "metadata": {},
   "outputs": [
    {
     "data": {
      "text/plain": [
       "((273, 9), (118, 9))"
      ]
     },
     "execution_count": 17,
     "metadata": {},
     "output_type": "execute_result"
    }
   ],
   "source": [
    "xtrain_num=xtrain[['Percent_SSC', 'Percent_HSC', 'Percent_Degree', 'Experience_Yrs',\n",
    "       'Percentile_ET', 'Percent_MBA', 'Marks_Communication',\n",
    "       'Marks_Projectwork', 'Marks_BOCA']]\n",
    "xtest_num=xtest[['Percent_SSC', 'Percent_HSC', 'Percent_Degree', 'Experience_Yrs',\n",
    "       'Percentile_ET', 'Percent_MBA', 'Marks_Communication',\n",
    "       'Marks_Projectwork', 'Marks_BOCA']]\n",
    "xtrain_num.shape,xtest_num.shape"
   ]
  },
  {
   "cell_type": "code",
   "execution_count": 18,
   "id": "a75e8e68",
   "metadata": {},
   "outputs": [
    {
     "data": {
      "text/plain": [
       "((273, 23), (118, 23))"
      ]
     },
     "execution_count": 18,
     "metadata": {},
     "output_type": "execute_result"
    }
   ],
   "source": [
    "xtrain_cat=xtrain.drop(['Percent_SSC', 'Percent_HSC', 'Percent_Degree', 'Experience_Yrs',\n",
    "       'Percentile_ET', 'Percent_MBA', 'Marks_Communication',\n",
    "       'Marks_Projectwork', 'Marks_BOCA'],axis=1)\n",
    "xtest_cat=xtest.drop(['Percent_SSC', 'Percent_HSC', 'Percent_Degree', 'Experience_Yrs',\n",
    "       'Percentile_ET', 'Percent_MBA', 'Marks_Communication',\n",
    "       'Marks_Projectwork', 'Marks_BOCA'],axis=1)\n",
    "xtrain_cat.shape,xtest_cat.shape"
   ]
  },
  {
   "cell_type": "code",
   "execution_count": 19,
   "id": "b291c2de",
   "metadata": {},
   "outputs": [],
   "source": [
    "from sklearn.preprocessing import StandardScaler,PowerTransformer"
   ]
  },
  {
   "cell_type": "code",
   "execution_count": 20,
   "id": "2f8adf85",
   "metadata": {},
   "outputs": [],
   "source": [
    "ss = StandardScaler()"
   ]
  },
  {
   "cell_type": "code",
   "execution_count": 22,
   "id": "cdbab38e",
   "metadata": {},
   "outputs": [
    {
     "data": {
      "text/html": [
       "<div>\n",
       "<style scoped>\n",
       "    .dataframe tbody tr th:only-of-type {\n",
       "        vertical-align: middle;\n",
       "    }\n",
       "\n",
       "    .dataframe tbody tr th {\n",
       "        vertical-align: top;\n",
       "    }\n",
       "\n",
       "    .dataframe thead th {\n",
       "        text-align: right;\n",
       "    }\n",
       "</style>\n",
       "<table border=\"1\" class=\"dataframe\">\n",
       "  <thead>\n",
       "    <tr style=\"text-align: right;\">\n",
       "      <th></th>\n",
       "      <th>Percent_SSC</th>\n",
       "      <th>Percent_HSC</th>\n",
       "      <th>Percent_Degree</th>\n",
       "      <th>Experience_Yrs</th>\n",
       "      <th>Percentile_ET</th>\n",
       "      <th>Percent_MBA</th>\n",
       "      <th>Marks_Communication</th>\n",
       "      <th>Marks_Projectwork</th>\n",
       "      <th>Marks_BOCA</th>\n",
       "    </tr>\n",
       "  </thead>\n",
       "  <tbody>\n",
       "    <tr>\n",
       "      <th>0</th>\n",
       "      <td>0.355249</td>\n",
       "      <td>1.054324</td>\n",
       "      <td>-0.164764</td>\n",
       "      <td>2.207578</td>\n",
       "      <td>1.309253</td>\n",
       "      <td>0.102346</td>\n",
       "      <td>0.183337</td>\n",
       "      <td>0.510149</td>\n",
       "      <td>0.934688</td>\n",
       "    </tr>\n",
       "    <tr>\n",
       "      <th>1</th>\n",
       "      <td>-0.668367</td>\n",
       "      <td>1.729059</td>\n",
       "      <td>0.156906</td>\n",
       "      <td>0.748331</td>\n",
       "      <td>0.054516</td>\n",
       "      <td>0.754617</td>\n",
       "      <td>0.968891</td>\n",
       "      <td>-1.431874</td>\n",
       "      <td>-0.030646</td>\n",
       "    </tr>\n",
       "  </tbody>\n",
       "</table>\n",
       "</div>"
      ],
      "text/plain": [
       "   Percent_SSC  Percent_HSC  Percent_Degree  Experience_Yrs  Percentile_ET  \\\n",
       "0     0.355249     1.054324       -0.164764        2.207578       1.309253   \n",
       "1    -0.668367     1.729059        0.156906        0.748331       0.054516   \n",
       "\n",
       "   Percent_MBA  Marks_Communication  Marks_Projectwork  Marks_BOCA  \n",
       "0     0.102346             0.183337           0.510149    0.934688  \n",
       "1     0.754617             0.968891          -1.431874   -0.030646  "
      ]
     },
     "execution_count": 22,
     "metadata": {},
     "output_type": "execute_result"
    }
   ],
   "source": [
    "scaled_xtrain_num = pd.DataFrame(ss.fit_transform(xtrain_num),columns=xtrain_num.columns)\n",
    "scaled_xtest_num = pd.DataFrame(ss.transform(xtest_num),columns=xtest_num.columns)\n",
    "scaled_xtrain_num.head(2)"
   ]
  },
  {
   "cell_type": "code",
   "execution_count": 23,
   "id": "3c95954d",
   "metadata": {},
   "outputs": [
    {
     "data": {
      "text/html": [
       "<div>\n",
       "<style scoped>\n",
       "    .dataframe tbody tr th:only-of-type {\n",
       "        vertical-align: middle;\n",
       "    }\n",
       "\n",
       "    .dataframe tbody tr th {\n",
       "        vertical-align: top;\n",
       "    }\n",
       "\n",
       "    .dataframe thead th {\n",
       "        text-align: right;\n",
       "    }\n",
       "</style>\n",
       "<table border=\"1\" class=\"dataframe\">\n",
       "  <thead>\n",
       "    <tr style=\"text-align: right;\">\n",
       "      <th></th>\n",
       "      <th>Percent_SSC</th>\n",
       "      <th>Percent_HSC</th>\n",
       "      <th>Percent_Degree</th>\n",
       "      <th>Experience_Yrs</th>\n",
       "      <th>Percentile_ET</th>\n",
       "      <th>Percent_MBA</th>\n",
       "      <th>Marks_Communication</th>\n",
       "      <th>Marks_Projectwork</th>\n",
       "      <th>Marks_BOCA</th>\n",
       "    </tr>\n",
       "  </thead>\n",
       "  <tbody>\n",
       "    <tr>\n",
       "      <th>0</th>\n",
       "      <td>0.541524</td>\n",
       "      <td>0.246581</td>\n",
       "      <td>1.335994</td>\n",
       "      <td>-0.710915</td>\n",
       "      <td>-1.737737</td>\n",
       "      <td>1.405185</td>\n",
       "      <td>-0.489995</td>\n",
       "      <td>-0.044714</td>\n",
       "      <td>0.612910</td>\n",
       "    </tr>\n",
       "    <tr>\n",
       "      <th>1</th>\n",
       "      <td>1.519467</td>\n",
       "      <td>2.190626</td>\n",
       "      <td>-0.442066</td>\n",
       "      <td>-0.710915</td>\n",
       "      <td>1.008576</td>\n",
       "      <td>-0.364292</td>\n",
       "      <td>-1.163327</td>\n",
       "      <td>-0.183430</td>\n",
       "      <td>-0.674201</td>\n",
       "    </tr>\n",
       "  </tbody>\n",
       "</table>\n",
       "</div>"
      ],
      "text/plain": [
       "   Percent_SSC  Percent_HSC  Percent_Degree  Experience_Yrs  Percentile_ET  \\\n",
       "0     0.541524     0.246581        1.335994       -0.710915      -1.737737   \n",
       "1     1.519467     2.190626       -0.442066       -0.710915       1.008576   \n",
       "\n",
       "   Percent_MBA  Marks_Communication  Marks_Projectwork  Marks_BOCA  \n",
       "0     1.405185            -0.489995          -0.044714    0.612910  \n",
       "1    -0.364292            -1.163327          -0.183430   -0.674201  "
      ]
     },
     "execution_count": 23,
     "metadata": {},
     "output_type": "execute_result"
    }
   ],
   "source": [
    "scaled_xtest_num.head(2)"
   ]
  },
  {
   "cell_type": "code",
   "execution_count": 25,
   "id": "e5adff9e",
   "metadata": {},
   "outputs": [],
   "source": [
    "xtrain_cat = xtrain_cat.reset_index()\n",
    "xtest_cat = xtest_cat.reset_index()"
   ]
  },
  {
   "cell_type": "code",
   "execution_count": 37,
   "id": "6295e6f6",
   "metadata": {},
   "outputs": [
    {
     "data": {
      "text/plain": [
       "(273, 32)"
      ]
     },
     "execution_count": 37,
     "metadata": {},
     "output_type": "execute_result"
    }
   ],
   "source": [
    "xtrain_final = pd.concat([scaled_xtrain_num,xtrain_cat],axis=1)\n",
    "xtest_final = pd.concat([scaled_xtest_num,xtest_cat],axis=1)\n",
    "xtrain.shape"
   ]
  },
  {
   "cell_type": "markdown",
   "id": "6b4ce8ca",
   "metadata": {},
   "source": [
    "## KNN Model"
   ]
  },
  {
   "cell_type": "code",
   "execution_count": 29,
   "id": "327633cb",
   "metadata": {},
   "outputs": [],
   "source": [
    "from sklearn.neighbors import KNeighborsClassifier"
   ]
  },
  {
   "cell_type": "code",
   "execution_count": 30,
   "id": "711a61e8",
   "metadata": {},
   "outputs": [],
   "source": [
    "from sklearn.metrics import classification_report,confusion_matrix,roc_auc_score,roc_curve,accuracy_score,cohen_kappa_score"
   ]
  },
  {
   "cell_type": "code",
   "execution_count": 38,
   "id": "c0193737",
   "metadata": {},
   "outputs": [
    {
     "name": "stdout",
     "output_type": "stream",
     "text": [
      "              precision    recall  f1-score   support\n",
      "\n",
      "  Not Placed       1.00      0.19      0.32        26\n",
      "      Placed       0.81      1.00      0.90        92\n",
      "\n",
      "    accuracy                           0.82       118\n",
      "   macro avg       0.91      0.60      0.61       118\n",
      "weighted avg       0.86      0.82      0.77       118\n",
      "\n"
     ]
    },
    {
     "name": "stderr",
     "output_type": "stream",
     "text": [
      "C:\\Users\\V.Kalyan\\anaconda3\\lib\\site-packages\\sklearn\\neighbors\\_classification.py:228: FutureWarning: Unlike other reduction functions (e.g. `skew`, `kurtosis`), the default behavior of `mode` typically preserves the axis it acts along. In SciPy 1.11.0, this behavior will change: the default value of `keepdims` will become False, the `axis` over which the statistic is taken will be eliminated, and the value None will no longer be accepted. Set `keepdims` to True or False to avoid this warning.\n",
      "  mode, _ = stats.mode(_y[neigh_ind, k], axis=1)\n"
     ]
    }
   ],
   "source": [
    "KNN = KNeighborsClassifier()\n",
    "KNN_model = KNN.fit(xtrain_final,ytrain)\n",
    "pred_KNN = KNN_model.predict(xtest_final)\n",
    "print(classification_report(ytest,pred_KNN))"
   ]
  },
  {
   "cell_type": "code",
   "execution_count": 39,
   "id": "b8ee3aaf",
   "metadata": {},
   "outputs": [
    {
     "data": {
      "text/plain": [
       "0.2707474985285462"
      ]
     },
     "execution_count": 39,
     "metadata": {},
     "output_type": "execute_result"
    }
   ],
   "source": [
    "cohen_kappa_score(ytest,pred_KNN)"
   ]
  },
  {
   "cell_type": "markdown",
   "id": "4b041d71",
   "metadata": {},
   "source": [
    "## NAIVE-BAYES MODEL"
   ]
  },
  {
   "cell_type": "code",
   "execution_count": 33,
   "id": "6a025d58",
   "metadata": {},
   "outputs": [],
   "source": [
    "from sklearn.naive_bayes import GaussianNB\n",
    "from sklearn.tree import DecisionTreeClassifier"
   ]
  },
  {
   "cell_type": "code",
   "execution_count": 40,
   "id": "f5cd4747",
   "metadata": {},
   "outputs": [
    {
     "name": "stdout",
     "output_type": "stream",
     "text": [
      "              precision    recall  f1-score   support\n",
      "\n",
      "  Not Placed       0.22      0.96      0.36        26\n",
      "      Placed       0.80      0.04      0.08        92\n",
      "\n",
      "    accuracy                           0.25       118\n",
      "   macro avg       0.51      0.50      0.22       118\n",
      "weighted avg       0.67      0.25      0.14       118\n",
      "\n",
      "0.0022800684020521933\n"
     ]
    }
   ],
   "source": [
    "nb = GaussianNB()\n",
    "nb_model = nb.fit(xtrain_final,ytrain)\n",
    "pred_nb = nb_model.predict(xtest_final)\n",
    "print(classification_report(ytest,pred_nb))\n",
    "print(cohen_kappa_score(ytest,pred_nb))"
   ]
  },
  {
   "cell_type": "markdown",
   "id": "e5d1b78c",
   "metadata": {},
   "source": [
    "## DECISION TREE MODEL"
   ]
  },
  {
   "cell_type": "code",
   "execution_count": 41,
   "id": "85bf84d2",
   "metadata": {},
   "outputs": [
    {
     "name": "stdout",
     "output_type": "stream",
     "text": [
      "              precision    recall  f1-score   support\n",
      "\n",
      "  Not Placed       0.18      0.12      0.14        26\n",
      "      Placed       0.77      0.85      0.81        92\n",
      "\n",
      "    accuracy                           0.69       118\n",
      "   macro avg       0.47      0.48      0.47       118\n",
      "weighted avg       0.64      0.69      0.66       118\n",
      "\n"
     ]
    },
    {
     "data": {
      "text/plain": [
       "-0.042004773269689766"
      ]
     },
     "execution_count": 41,
     "metadata": {},
     "output_type": "execute_result"
    }
   ],
   "source": [
    "DT = DecisionTreeClassifier()\n",
    "DT_model = DT.fit(xtrain_final,ytrain)\n",
    "pred_DT = DT_model.predict(xtest_final)\n",
    "print(classification_report(ytest,pred_DT))\n",
    "cohen_kappa_score(ytest,pred_DT)"
   ]
  },
  {
   "cell_type": "code",
   "execution_count": null,
   "id": "1321eb9c",
   "metadata": {},
   "outputs": [],
   "source": [
    "# so never perform the decision tree on scaled data "
   ]
  },
  {
   "cell_type": "code",
   "execution_count": 36,
   "id": "792cfebc",
   "metadata": {},
   "outputs": [
    {
     "name": "stdout",
     "output_type": "stream",
     "text": [
      "              precision    recall  f1-score   support\n",
      "\n",
      "  Not Placed       0.29      0.19      0.23        26\n",
      "      Placed       0.79      0.87      0.83        92\n",
      "\n",
      "    accuracy                           0.72       118\n",
      "   macro avg       0.54      0.53      0.53       118\n",
      "weighted avg       0.68      0.72      0.70       118\n",
      "\n"
     ]
    },
    {
     "data": {
      "text/plain": [
       "0.07064439140811452"
      ]
     },
     "execution_count": 36,
     "metadata": {},
     "output_type": "execute_result"
    }
   ],
   "source": [
    "DT = DecisionTreeClassifier()\n",
    "DT_model = DT.fit(xtrain,ytrain)\n",
    "pred_DT = DT_model.predict(xtest)\n",
    "print(classification_report(ytest,pred_DT))\n",
    "cohen_kappa_score(ytest,pred_DT)"
   ]
  }
 ],
 "metadata": {
  "kernelspec": {
   "display_name": "Python 3 (ipykernel)",
   "language": "python",
   "name": "python3"
  },
  "language_info": {
   "codemirror_mode": {
    "name": "ipython",
    "version": 3
   },
   "file_extension": ".py",
   "mimetype": "text/x-python",
   "name": "python",
   "nbconvert_exporter": "python",
   "pygments_lexer": "ipython3",
   "version": "3.9.13"
  }
 },
 "nbformat": 4,
 "nbformat_minor": 5
}
